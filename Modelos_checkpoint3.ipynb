{
 "cells": [
  {
   "cell_type": "code",
   "execution_count": 4,
   "id": "0172188e-4b4b-4ee3-84a8-851a5e5bb1a5",
   "metadata": {},
   "outputs": [],
   "source": [
    "import numpy as np\n",
    "import seaborn as sns\n",
    "import pandas as pd\n",
    "import matplotlib.pyplot as plt\n",
    "from sklearn.linear_model import LinearRegression"
   ]
  },
  {
   "cell_type": "code",
   "execution_count": 5,
   "id": "b927f9fc-99b4-41cc-a74a-c0541f38ca67",
   "metadata": {},
   "outputs": [],
   "source": [
    "sns.set_theme(color_codes=True)"
   ]
  },
  {
   "cell_type": "code",
   "execution_count": 6,
   "id": "ec229f2c-2126-4aa7-a376-2edc191979b0",
   "metadata": {},
   "outputs": [
    {
     "data": {
      "text/html": [
       "<div>\n",
       "<style scoped>\n",
       "    .dataframe tbody tr th:only-of-type {\n",
       "        vertical-align: middle;\n",
       "    }\n",
       "\n",
       "    .dataframe tbody tr th {\n",
       "        vertical-align: top;\n",
       "    }\n",
       "\n",
       "    .dataframe thead th {\n",
       "        text-align: right;\n",
       "    }\n",
       "</style>\n",
       "<table border=\"1\" class=\"dataframe\">\n",
       "  <thead>\n",
       "    <tr style=\"text-align: right;\">\n",
       "      <th></th>\n",
       "      <th>code</th>\n",
       "      <th>continent</th>\n",
       "      <th>country</th>\n",
       "      <th>date</th>\n",
       "      <th>total_cases_per_million</th>\n",
       "      <th>total_deaths_per_million</th>\n",
       "      <th>population_density</th>\n",
       "      <th>cardiovasc_death_rate</th>\n",
       "      <th>diabetes_prevalence</th>\n",
       "      <th>life_expectancy</th>\n",
       "      <th>hdi</th>\n",
       "    </tr>\n",
       "  </thead>\n",
       "  <tbody>\n",
       "    <tr>\n",
       "      <th>0</th>\n",
       "      <td>AFG</td>\n",
       "      <td>Asia</td>\n",
       "      <td>Afghanistan</td>\n",
       "      <td>09/12/2021</td>\n",
       "      <td>3955.901</td>\n",
       "      <td>183.781</td>\n",
       "      <td>54.422</td>\n",
       "      <td>597.029</td>\n",
       "      <td>9.59</td>\n",
       "      <td>64.83</td>\n",
       "      <td>0.511</td>\n",
       "    </tr>\n",
       "    <tr>\n",
       "      <th>1</th>\n",
       "      <td>ALB</td>\n",
       "      <td>Europe</td>\n",
       "      <td>Albania</td>\n",
       "      <td>09/12/2021</td>\n",
       "      <td>70611.786</td>\n",
       "      <td>1088.782</td>\n",
       "      <td>104.871</td>\n",
       "      <td>304.195</td>\n",
       "      <td>10.08</td>\n",
       "      <td>78.57</td>\n",
       "      <td>0.795</td>\n",
       "    </tr>\n",
       "    <tr>\n",
       "      <th>2</th>\n",
       "      <td>DZA</td>\n",
       "      <td>Africa</td>\n",
       "      <td>Algeria</td>\n",
       "      <td>09/12/2021</td>\n",
       "      <td>4756.612</td>\n",
       "      <td>137.303</td>\n",
       "      <td>17.348</td>\n",
       "      <td>278.364</td>\n",
       "      <td>6.73</td>\n",
       "      <td>76.88</td>\n",
       "      <td>0.748</td>\n",
       "    </tr>\n",
       "    <tr>\n",
       "      <th>3</th>\n",
       "      <td>AND</td>\n",
       "      <td>Europe</td>\n",
       "      <td>Andorra</td>\n",
       "      <td>09/12/2021</td>\n",
       "      <td>249140.316</td>\n",
       "      <td>1719.368</td>\n",
       "      <td>163.755</td>\n",
       "      <td>109.135</td>\n",
       "      <td>7.97</td>\n",
       "      <td>83.73</td>\n",
       "      <td>0.868</td>\n",
       "    </tr>\n",
       "    <tr>\n",
       "      <th>4</th>\n",
       "      <td>AGO</td>\n",
       "      <td>Africa</td>\n",
       "      <td>Angola</td>\n",
       "      <td>09/12/2021</td>\n",
       "      <td>1925.701</td>\n",
       "      <td>51.159</td>\n",
       "      <td>23.890</td>\n",
       "      <td>276.045</td>\n",
       "      <td>3.94</td>\n",
       "      <td>61.15</td>\n",
       "      <td>0.581</td>\n",
       "    </tr>\n",
       "  </tbody>\n",
       "</table>\n",
       "</div>"
      ],
      "text/plain": [
       "  code continent      country        date  total_cases_per_million  \\\n",
       "0  AFG      Asia  Afghanistan  09/12/2021                 3955.901   \n",
       "1  ALB    Europe      Albania  09/12/2021                70611.786   \n",
       "2  DZA    Africa      Algeria  09/12/2021                 4756.612   \n",
       "3  AND    Europe      Andorra  09/12/2021               249140.316   \n",
       "4  AGO    Africa       Angola  09/12/2021                 1925.701   \n",
       "\n",
       "   total_deaths_per_million  population_density  cardiovasc_death_rate  \\\n",
       "0                   183.781              54.422                597.029   \n",
       "1                  1088.782             104.871                304.195   \n",
       "2                   137.303              17.348                278.364   \n",
       "3                  1719.368             163.755                109.135   \n",
       "4                    51.159              23.890                276.045   \n",
       "\n",
       "   diabetes_prevalence  life_expectancy    hdi  \n",
       "0                 9.59            64.83  0.511  \n",
       "1                10.08            78.57  0.795  \n",
       "2                 6.73            76.88  0.748  \n",
       "3                 7.97            83.73  0.868  \n",
       "4                 3.94            61.15  0.581  "
      ]
     },
     "execution_count": 6,
     "metadata": {},
     "output_type": "execute_result"
    }
   ],
   "source": [
    "df=pd.read_csv(\"./datasets/paises.csv\")\n",
    "df.head()"
   ]
  },
  {
   "cell_type": "code",
   "execution_count": 8,
   "id": "9c54b3f8-78c2-4eba-9bd6-c5a6caaec2de",
   "metadata": {},
   "outputs": [
    {
     "data": {
      "text/plain": [
       "(196, 11)"
      ]
     },
     "execution_count": 8,
     "metadata": {},
     "output_type": "execute_result"
    }
   ],
   "source": [
    "df.shape"
   ]
  },
  {
   "cell_type": "code",
   "execution_count": 7,
   "id": "95b17901-41b4-478d-bacb-54479366f07d",
   "metadata": {},
   "outputs": [
    {
     "data": {
      "text/plain": [
       "code                         0\n",
       "continent                    0\n",
       "country                      0\n",
       "date                         0\n",
       "total_cases_per_million      3\n",
       "total_deaths_per_million    11\n",
       "population_density           4\n",
       "cardiovasc_death_rate       10\n",
       "diabetes_prevalence          5\n",
       "life_expectancy              0\n",
       "hdi                          8\n",
       "dtype: int64"
      ]
     },
     "execution_count": 7,
     "metadata": {},
     "output_type": "execute_result"
    }
   ],
   "source": [
    "df.isna().sum()"
   ]
  },
  {
   "cell_type": "code",
   "execution_count": 29,
   "id": "7c60ef2d-0cc6-4ac3-9747-02d16e6c4a6b",
   "metadata": {},
   "outputs": [],
   "source": [
    "df_nona = df.dropna(subset = ['total_cases_per_million', 'hdi']) #para quitar na en columnas especificas"
   ]
  },
  {
   "cell_type": "code",
   "execution_count": 30,
   "id": "07362f10-89d3-4f76-8db8-3c39898ab6dc",
   "metadata": {},
   "outputs": [
    {
     "data": {
      "text/plain": [
       "code                        0\n",
       "continent                   0\n",
       "country                     0\n",
       "date                        0\n",
       "total_cases_per_million     0\n",
       "total_deaths_per_million    7\n",
       "population_density          2\n",
       "cardiovasc_death_rate       4\n",
       "diabetes_prevalence         1\n",
       "life_expectancy             0\n",
       "hdi                         0\n",
       "dtype: int64"
      ]
     },
     "execution_count": 30,
     "metadata": {},
     "output_type": "execute_result"
    }
   ],
   "source": [
    "df_nona.isna().sum()"
   ]
  },
  {
   "cell_type": "code",
   "execution_count": 20,
   "id": "941a6cae-77e8-4e04-9490-1ff338c55ec0",
   "metadata": {},
   "outputs": [],
   "source": [
    "model = LinearRegression()"
   ]
  },
  {
   "cell_type": "code",
   "execution_count": 31,
   "id": "ab43db7c-4019-42ef-9620-734e7183b83e",
   "metadata": {},
   "outputs": [],
   "source": [
    "hdi = df_nona['hdi'].array.reshape((-1,1))\n",
    "total_cases = df_nona['total_cases_per_million']"
   ]
  },
  {
   "cell_type": "code",
   "execution_count": 32,
   "id": "4db830c0-706c-4cd2-80fc-9482e3524c3c",
   "metadata": {},
   "outputs": [
    {
     "data": {
      "text/plain": [
       "0"
      ]
     },
     "execution_count": 32,
     "metadata": {},
     "output_type": "execute_result"
    }
   ],
   "source": [
    "hdi.isna().sum()"
   ]
  },
  {
   "cell_type": "code",
   "execution_count": 33,
   "id": "c080556d-8d04-4ddb-ba62-862932161ef4",
   "metadata": {},
   "outputs": [
    {
     "data": {
      "text/plain": [
       "LinearRegression()"
      ]
     },
     "execution_count": 33,
     "metadata": {},
     "output_type": "execute_result"
    }
   ],
   "source": [
    "model.fit(hdi,total_cases)"
   ]
  },
  {
   "cell_type": "code",
   "execution_count": 40,
   "id": "17425ad1-167e-4ab4-969b-14156affcc6a",
   "metadata": {},
   "outputs": [
    {
     "name": "stdout",
     "output_type": "stream",
     "text": [
      "Resultados de regresion\n",
      "R2 0.4358415861211563\n",
      "pendiente [266381.72028768]\n",
      "interseccion -134678.64102464402\n"
     ]
    }
   ],
   "source": [
    "r_sq = model.score(hdi,total_cases)\n",
    "print('Resultados de regresion')\n",
    "print('R2', r_sq)\n",
    "print('pendiente', model.coef_)\n",
    "print('interseccion', model.intercept_)"
   ]
  },
  {
   "cell_type": "code",
   "execution_count": 46,
   "id": "a56c831e-7779-4303-8038-ab0caaf010f6",
   "metadata": {},
   "outputs": [
    {
     "data": {
      "text/plain": [
       "Text(0.5, 1.0, 'Regresion IDH - Casos totales')"
      ]
     },
     "execution_count": 46,
     "metadata": {},
     "output_type": "execute_result"
    },
    {
     "data": {
      "image/png": "[encoded data removed]",
      "text/plain": [
       "<Figure size 432x288 with 1 Axes>"
      ]
     },
     "metadata": {},
     "output_type": "display_data"
    }
   ],
   "source": [
    "regresion = sns.regplot(x=df_nona['hdi'], y=df_nona['total_cases_per_million'], data=df)\n",
    "regresion.set_xlabel('Indice de Desarrollo Humano')\n",
    "regresion.set_ylabel('Casos totales por millon')\n",
    "regresion.set_title('Regresion IDH - Casos totales')"
   ]
  },
  {
   "cell_type": "code",
   "execution_count": 43,
   "id": "7c1ce34f-6be2-4fb4-ac9e-182b6330b7fe",
   "metadata": {},
   "outputs": [
    {
     "data": {
      "text/plain": [
       "Text(0, 0.5, 'Casos totales por millon')"
      ]
     },
     "execution_count": 43,
     "metadata": {},
     "output_type": "execute_result"
    },
    {
     "data": {
      "image/png": "[encoded data removed]",
      "text/plain": [
       "<Figure size 432x288 with 1 Axes>"
      ]
     },
     "metadata": {},
     "output_type": "display_data"
    }
   ],
   "source": [
    "regresion_2 = sns.regplot(x=df_nona['hdi'], y=df_nona['total_cases_per_million'], data=df, order=5, ci=None)\n",
    "regresion_2.set_xlabel('Indice de Desarrollo Humano')\n",
    "regresion_2.set_ylabel('Casos totales por millon')"
   ]
  }
 ],
 "metadata": {
  "kernelspec": {
   "display_name": "Python 3 (ipykernel)",
   "language": "python",
   "name": "python3"
  },
  "language_info": {
   "codemirror_mode": {
    "name": "ipython",
    "version": 3
   },
   "file_extension": ".py",
   "mimetype": "text/x-python",
   "name": "python",
   "nbconvert_exporter": "python",
   "pygments_lexer": "ipython3",
   "version": "3.9.7"
  }
 },
 "nbformat": 4,
 "nbformat_minor": 5
}
