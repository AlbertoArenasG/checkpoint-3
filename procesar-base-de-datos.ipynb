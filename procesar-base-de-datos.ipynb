{
 "cells": [
  {
   "cell_type": "code",
   "execution_count": 1,
   "id": "4d29369e",
   "metadata": {},
   "outputs": [
    {
     "name": "stdout",
     "output_type": "stream",
     "text": [
      "\u001b[31mERROR: Could not find a version that satisfies the requirement sqlite3 (from versions: none)\u001b[0m\r\n",
      "\u001b[31mERROR: No matching distribution found for sqlite3\u001b[0m\r\n"
     ]
    }
   ],
   "source": [
    "!pip install sqlite3"
   ]
  },
  {
   "cell_type": "code",
   "execution_count": 2,
   "id": "c8ca08be",
   "metadata": {},
   "outputs": [
    {
     "name": "stdout",
     "output_type": "stream",
     "text": [
      "Requirement already satisfied: pymysql in /opt/conda/lib/python3.9/site-packages (1.0.2)\r\n"
     ]
    }
   ],
   "source": [
    "!pip install pymysql"
   ]
  },
  {
   "cell_type": "code",
   "execution_count": 3,
   "id": "233220b7",
   "metadata": {},
   "outputs": [],
   "source": [
    "import pandas as pd\n",
    "import pymysql"
   ]
  },
  {
   "cell_type": "code",
   "execution_count": 4,
   "id": "c2071540",
   "metadata": {},
   "outputs": [],
   "source": [
    "def read_file(path):\n",
    "    pd.read_csv(path, sep=',')"
   ]
  },
  {
   "cell_type": "markdown",
   "id": "b6c0ea3e",
   "metadata": {},
   "source": [
    "## Importando los archivos"
   ]
  },
  {
   "cell_type": "code",
   "execution_count": 5,
   "id": "da61baa1",
   "metadata": {},
   "outputs": [],
   "source": [
    "df_eficacia = pd.read_csv('./datasets/eficacia.csv', sep=',')\n",
    "df_edad = pd.read_csv('./datasets/edad.csv', sep=',')\n",
    "df_paises = pd.read_csv('./datasets/paises.csv', sep=',')\n",
    "df_vacunas = pd.read_csv('./datasets/vacunas.csv', sep=',')"
   ]
  },
  {
   "cell_type": "markdown",
   "id": "3b169660",
   "metadata": {},
   "source": [
    "\n",
    "\n",
    "\n",
    "\n",
    "## Explorando eficacia\n"
   ]
  },
  {
   "cell_type": "code",
   "execution_count": 6,
   "id": "8d07e497",
   "metadata": {},
   "outputs": [
    {
     "data": {
      "text/plain": [
       "vaccine                        object\n",
       "efficacy_disease_alpha        float64\n",
       "efficacy_infection_alpha      float64\n",
       "efficacy_disease_bgd          float64\n",
       "efficacy_infection_bgd        float64\n",
       "efficacy_disease_omicron      float64\n",
       "efficacy_infection_omicron    float64\n",
       "dtype: object"
      ]
     },
     "execution_count": 6,
     "metadata": {},
     "output_type": "execute_result"
    }
   ],
   "source": [
    "df_eficacia.dtypes"
   ]
  },
  {
   "cell_type": "code",
   "execution_count": 7,
   "id": "1916e499",
   "metadata": {},
   "outputs": [
    {
     "data": {
      "text/plain": [
       "(12, 7)"
      ]
     },
     "execution_count": 7,
     "metadata": {},
     "output_type": "execute_result"
    }
   ],
   "source": [
    "df_eficacia.shape"
   ]
  },
  {
   "cell_type": "code",
   "execution_count": 8,
   "id": "dfc6c128",
   "metadata": {
    "scrolled": true
   },
   "outputs": [
    {
     "data": {
      "text/html": [
       "<div>\n",
       "<style scoped>\n",
       "    .dataframe tbody tr th:only-of-type {\n",
       "        vertical-align: middle;\n",
       "    }\n",
       "\n",
       "    .dataframe tbody tr th {\n",
       "        vertical-align: top;\n",
       "    }\n",
       "\n",
       "    .dataframe thead th {\n",
       "        text-align: right;\n",
       "    }\n",
       "</style>\n",
       "<table border=\"1\" class=\"dataframe\">\n",
       "  <thead>\n",
       "    <tr style=\"text-align: right;\">\n",
       "      <th></th>\n",
       "      <th>vaccine</th>\n",
       "      <th>efficacy_disease_alpha</th>\n",
       "      <th>efficacy_infection_alpha</th>\n",
       "      <th>efficacy_disease_bgd</th>\n",
       "      <th>efficacy_infection_bgd</th>\n",
       "      <th>efficacy_disease_omicron</th>\n",
       "      <th>efficacy_infection_omicron</th>\n",
       "    </tr>\n",
       "  </thead>\n",
       "  <tbody>\n",
       "    <tr>\n",
       "      <th>0</th>\n",
       "      <td>astra_zeneca</td>\n",
       "      <td>0.94</td>\n",
       "      <td>0.63</td>\n",
       "      <td>0.94</td>\n",
       "      <td>0.69</td>\n",
       "      <td>0.71</td>\n",
       "      <td>0.36</td>\n",
       "    </tr>\n",
       "    <tr>\n",
       "      <th>1</th>\n",
       "      <td>cansino</td>\n",
       "      <td>0.66</td>\n",
       "      <td>0.62</td>\n",
       "      <td>0.64</td>\n",
       "      <td>0.61</td>\n",
       "      <td>0.48</td>\n",
       "      <td>0.32</td>\n",
       "    </tr>\n",
       "  </tbody>\n",
       "</table>\n",
       "</div>"
      ],
      "text/plain": [
       "        vaccine  efficacy_disease_alpha  efficacy_infection_alpha  \\\n",
       "0  astra_zeneca                    0.94                      0.63   \n",
       "1       cansino                    0.66                      0.62   \n",
       "\n",
       "   efficacy_disease_bgd  efficacy_infection_bgd  efficacy_disease_omicron  \\\n",
       "0                  0.94                    0.69                      0.71   \n",
       "1                  0.64                    0.61                      0.48   \n",
       "\n",
       "   efficacy_infection_omicron  \n",
       "0                        0.36  \n",
       "1                        0.32  "
      ]
     },
     "execution_count": 8,
     "metadata": {},
     "output_type": "execute_result"
    }
   ],
   "source": [
    "df_eficacia.head(2)"
   ]
  },
  {
   "cell_type": "markdown",
   "id": "bb90b60d",
   "metadata": {},
   "source": [
    "## Explorando edad"
   ]
  },
  {
   "cell_type": "code",
   "execution_count": 9,
   "id": "bdeff4ba",
   "metadata": {},
   "outputs": [
    {
     "data": {
      "text/plain": [
       "location                                object\n",
       "date                                    object\n",
       "age_group                               object\n",
       "people_vaccinated_per_hundred          float64\n",
       "people_fully_vaccinated_per_hundred    float64\n",
       "people_with_booster_per_hundred        float64\n",
       "dtype: object"
      ]
     },
     "execution_count": 9,
     "metadata": {},
     "output_type": "execute_result"
    }
   ],
   "source": [
    "df_edad.dtypes"
   ]
  },
  {
   "cell_type": "code",
   "execution_count": 10,
   "id": "a40cc1ac",
   "metadata": {},
   "outputs": [
    {
     "data": {
      "text/plain": [
       "(232, 6)"
      ]
     },
     "execution_count": 10,
     "metadata": {},
     "output_type": "execute_result"
    }
   ],
   "source": [
    "df_edad.shape"
   ]
  },
  {
   "cell_type": "code",
   "execution_count": 11,
   "id": "bc8da60a",
   "metadata": {},
   "outputs": [
    {
     "data": {
      "text/html": [
       "<div>\n",
       "<style scoped>\n",
       "    .dataframe tbody tr th:only-of-type {\n",
       "        vertical-align: middle;\n",
       "    }\n",
       "\n",
       "    .dataframe tbody tr th {\n",
       "        vertical-align: top;\n",
       "    }\n",
       "\n",
       "    .dataframe thead th {\n",
       "        text-align: right;\n",
       "    }\n",
       "</style>\n",
       "<table border=\"1\" class=\"dataframe\">\n",
       "  <thead>\n",
       "    <tr style=\"text-align: right;\">\n",
       "      <th></th>\n",
       "      <th>location</th>\n",
       "      <th>date</th>\n",
       "      <th>age_group</th>\n",
       "      <th>people_vaccinated_per_hundred</th>\n",
       "      <th>people_fully_vaccinated_per_hundred</th>\n",
       "      <th>people_with_booster_per_hundred</th>\n",
       "    </tr>\n",
       "  </thead>\n",
       "  <tbody>\n",
       "    <tr>\n",
       "      <th>0</th>\n",
       "      <td>Austria</td>\n",
       "      <td>07/12/2021</td>\n",
       "      <td>0-4</td>\n",
       "      <td>0.19</td>\n",
       "      <td>0.05</td>\n",
       "      <td>0.00</td>\n",
       "    </tr>\n",
       "    <tr>\n",
       "      <th>1</th>\n",
       "      <td>Austria</td>\n",
       "      <td>07/12/2021</td>\n",
       "      <td>5</td>\n",
       "      <td>36.61</td>\n",
       "      <td>24.16</td>\n",
       "      <td>0.28</td>\n",
       "    </tr>\n",
       "  </tbody>\n",
       "</table>\n",
       "</div>"
      ],
      "text/plain": [
       "  location        date age_group  people_vaccinated_per_hundred  \\\n",
       "0  Austria  07/12/2021       0-4                           0.19   \n",
       "1  Austria  07/12/2021         5                          36.61   \n",
       "\n",
       "   people_fully_vaccinated_per_hundred  people_with_booster_per_hundred  \n",
       "0                                 0.05                             0.00  \n",
       "1                                24.16                             0.28  "
      ]
     },
     "execution_count": 11,
     "metadata": {},
     "output_type": "execute_result"
    }
   ],
   "source": [
    "df_edad.head(2)"
   ]
  },
  {
   "cell_type": "markdown",
   "id": "359bf1bf",
   "metadata": {},
   "source": [
    "## Explorando países"
   ]
  },
  {
   "cell_type": "code",
   "execution_count": 12,
   "id": "43d50726",
   "metadata": {},
   "outputs": [
    {
     "data": {
      "text/plain": [
       "code                         object\n",
       "continent                    object\n",
       "country                      object\n",
       "date                         object\n",
       "total_cases_per_million     float64\n",
       "total_deaths_per_million    float64\n",
       "population_density          float64\n",
       "cardiovasc_death_rate       float64\n",
       "diabetes_prevalence         float64\n",
       "life_expectancy             float64\n",
       "hdi                         float64\n",
       "dtype: object"
      ]
     },
     "execution_count": 12,
     "metadata": {},
     "output_type": "execute_result"
    }
   ],
   "source": [
    "df_paises.dtypes"
   ]
  },
  {
   "cell_type": "code",
   "execution_count": 13,
   "id": "464d8395",
   "metadata": {},
   "outputs": [
    {
     "data": {
      "text/plain": [
       "(196, 11)"
      ]
     },
     "execution_count": 13,
     "metadata": {},
     "output_type": "execute_result"
    }
   ],
   "source": [
    "df_paises.shape"
   ]
  },
  {
   "cell_type": "code",
   "execution_count": 14,
   "id": "4953116c",
   "metadata": {},
   "outputs": [
    {
     "data": {
      "text/html": [
       "<div>\n",
       "<style scoped>\n",
       "    .dataframe tbody tr th:only-of-type {\n",
       "        vertical-align: middle;\n",
       "    }\n",
       "\n",
       "    .dataframe tbody tr th {\n",
       "        vertical-align: top;\n",
       "    }\n",
       "\n",
       "    .dataframe thead th {\n",
       "        text-align: right;\n",
       "    }\n",
       "</style>\n",
       "<table border=\"1\" class=\"dataframe\">\n",
       "  <thead>\n",
       "    <tr style=\"text-align: right;\">\n",
       "      <th></th>\n",
       "      <th>code</th>\n",
       "      <th>continent</th>\n",
       "      <th>country</th>\n",
       "      <th>date</th>\n",
       "      <th>total_cases_per_million</th>\n",
       "      <th>total_deaths_per_million</th>\n",
       "      <th>population_density</th>\n",
       "      <th>cardiovasc_death_rate</th>\n",
       "      <th>diabetes_prevalence</th>\n",
       "      <th>life_expectancy</th>\n",
       "      <th>hdi</th>\n",
       "    </tr>\n",
       "  </thead>\n",
       "  <tbody>\n",
       "    <tr>\n",
       "      <th>0</th>\n",
       "      <td>AFG</td>\n",
       "      <td>Asia</td>\n",
       "      <td>Afghanistan</td>\n",
       "      <td>09/12/2021</td>\n",
       "      <td>3955.901</td>\n",
       "      <td>183.781</td>\n",
       "      <td>54.422</td>\n",
       "      <td>597.029</td>\n",
       "      <td>9.59</td>\n",
       "      <td>64.83</td>\n",
       "      <td>0.511</td>\n",
       "    </tr>\n",
       "    <tr>\n",
       "      <th>1</th>\n",
       "      <td>ALB</td>\n",
       "      <td>Europe</td>\n",
       "      <td>Albania</td>\n",
       "      <td>09/12/2021</td>\n",
       "      <td>70611.786</td>\n",
       "      <td>1088.782</td>\n",
       "      <td>104.871</td>\n",
       "      <td>304.195</td>\n",
       "      <td>10.08</td>\n",
       "      <td>78.57</td>\n",
       "      <td>0.795</td>\n",
       "    </tr>\n",
       "  </tbody>\n",
       "</table>\n",
       "</div>"
      ],
      "text/plain": [
       "  code continent      country        date  total_cases_per_million  \\\n",
       "0  AFG      Asia  Afghanistan  09/12/2021                 3955.901   \n",
       "1  ALB    Europe      Albania  09/12/2021                70611.786   \n",
       "\n",
       "   total_deaths_per_million  population_density  cardiovasc_death_rate  \\\n",
       "0                   183.781              54.422                597.029   \n",
       "1                  1088.782             104.871                304.195   \n",
       "\n",
       "   diabetes_prevalence  life_expectancy    hdi  \n",
       "0                 9.59            64.83  0.511  \n",
       "1                10.08            78.57  0.795  "
      ]
     },
     "execution_count": 14,
     "metadata": {},
     "output_type": "execute_result"
    }
   ],
   "source": [
    "df_paises.head(2)"
   ]
  },
  {
   "cell_type": "markdown",
   "id": "3cd03560",
   "metadata": {},
   "source": [
    "## Explorando vacunas"
   ]
  },
  {
   "cell_type": "code",
   "execution_count": 15,
   "id": "0cc8bacc",
   "metadata": {},
   "outputs": [
    {
     "data": {
      "text/plain": [
       "country         object\n",
       "continent       object\n",
       "code            object\n",
       "date            object\n",
       "pfizer           int64\n",
       "moderna          int64\n",
       "aztra_zeneca     int64\n",
       "johnson          int64\n",
       "sputnik          int64\n",
       "sinovac          int64\n",
       "sinopharm        int64\n",
       "cansino          int64\n",
       "dtype: object"
      ]
     },
     "execution_count": 15,
     "metadata": {},
     "output_type": "execute_result"
    }
   ],
   "source": [
    "df_vacunas.dtypes"
   ]
  },
  {
   "cell_type": "code",
   "execution_count": 16,
   "id": "ef7fc202",
   "metadata": {},
   "outputs": [
    {
     "data": {
      "text/plain": [
       "(41, 12)"
      ]
     },
     "execution_count": 16,
     "metadata": {},
     "output_type": "execute_result"
    }
   ],
   "source": [
    "df_vacunas.shape"
   ]
  },
  {
   "cell_type": "code",
   "execution_count": 17,
   "id": "2e4e098e",
   "metadata": {},
   "outputs": [
    {
     "data": {
      "text/html": [
       "<div>\n",
       "<style scoped>\n",
       "    .dataframe tbody tr th:only-of-type {\n",
       "        vertical-align: middle;\n",
       "    }\n",
       "\n",
       "    .dataframe tbody tr th {\n",
       "        vertical-align: top;\n",
       "    }\n",
       "\n",
       "    .dataframe thead th {\n",
       "        text-align: right;\n",
       "    }\n",
       "</style>\n",
       "<table border=\"1\" class=\"dataframe\">\n",
       "  <thead>\n",
       "    <tr style=\"text-align: right;\">\n",
       "      <th></th>\n",
       "      <th>country</th>\n",
       "      <th>continent</th>\n",
       "      <th>code</th>\n",
       "      <th>date</th>\n",
       "      <th>pfizer</th>\n",
       "      <th>moderna</th>\n",
       "      <th>aztra_zeneca</th>\n",
       "      <th>johnson</th>\n",
       "      <th>sputnik</th>\n",
       "      <th>sinovac</th>\n",
       "      <th>sinopharm</th>\n",
       "      <th>cansino</th>\n",
       "    </tr>\n",
       "  </thead>\n",
       "  <tbody>\n",
       "    <tr>\n",
       "      <th>0</th>\n",
       "      <td>Czechia</td>\n",
       "      <td>Europe</td>\n",
       "      <td>CZE</td>\n",
       "      <td>09/12/2021</td>\n",
       "      <td>11769212</td>\n",
       "      <td>1178342</td>\n",
       "      <td>884369</td>\n",
       "      <td>399057</td>\n",
       "      <td>0</td>\n",
       "      <td>0</td>\n",
       "      <td>0</td>\n",
       "      <td>0</td>\n",
       "    </tr>\n",
       "    <tr>\n",
       "      <th>1</th>\n",
       "      <td>European Union</td>\n",
       "      <td>Europe</td>\n",
       "      <td>EU</td>\n",
       "      <td>09/12/2021</td>\n",
       "      <td>474558136</td>\n",
       "      <td>70560744</td>\n",
       "      <td>67256712</td>\n",
       "      <td>17652060</td>\n",
       "      <td>1845077</td>\n",
       "      <td>9</td>\n",
       "      <td>2201503</td>\n",
       "      <td>0</td>\n",
       "    </tr>\n",
       "  </tbody>\n",
       "</table>\n",
       "</div>"
      ],
      "text/plain": [
       "          country continent code        date     pfizer   moderna  \\\n",
       "0         Czechia    Europe  CZE  09/12/2021   11769212   1178342   \n",
       "1  European Union    Europe   EU  09/12/2021  474558136  70560744   \n",
       "\n",
       "   aztra_zeneca   johnson  sputnik  sinovac  sinopharm  cansino  \n",
       "0        884369    399057        0        0          0        0  \n",
       "1      67256712  17652060  1845077        9    2201503        0  "
      ]
     },
     "execution_count": 17,
     "metadata": {},
     "output_type": "execute_result"
    }
   ],
   "source": [
    "df_vacunas.head(2)"
   ]
  },
  {
   "cell_type": "code",
   "execution_count": 18,
   "id": "27b454df",
   "metadata": {},
   "outputs": [
    {
     "data": {
      "text/html": [
       "<div>\n",
       "<style scoped>\n",
       "    .dataframe tbody tr th:only-of-type {\n",
       "        vertical-align: middle;\n",
       "    }\n",
       "\n",
       "    .dataframe tbody tr th {\n",
       "        vertical-align: top;\n",
       "    }\n",
       "\n",
       "    .dataframe thead th {\n",
       "        text-align: right;\n",
       "    }\n",
       "</style>\n",
       "<table border=\"1\" class=\"dataframe\">\n",
       "  <thead>\n",
       "    <tr style=\"text-align: right;\">\n",
       "      <th></th>\n",
       "      <th>id</th>\n",
       "      <th>country</th>\n",
       "    </tr>\n",
       "  </thead>\n",
       "  <tbody>\n",
       "    <tr>\n",
       "      <th>0</th>\n",
       "      <td>1</td>\n",
       "      <td>Czechia</td>\n",
       "    </tr>\n",
       "    <tr>\n",
       "      <th>1</th>\n",
       "      <td>2</td>\n",
       "      <td>European Union</td>\n",
       "    </tr>\n",
       "    <tr>\n",
       "      <th>2</th>\n",
       "      <td>3</td>\n",
       "      <td>Hong Kong</td>\n",
       "    </tr>\n",
       "    <tr>\n",
       "      <th>3</th>\n",
       "      <td>4</td>\n",
       "      <td>Italy</td>\n",
       "    </tr>\n",
       "    <tr>\n",
       "      <th>4</th>\n",
       "      <td>5</td>\n",
       "      <td>Latvia</td>\n",
       "    </tr>\n",
       "    <tr>\n",
       "      <th>5</th>\n",
       "      <td>6</td>\n",
       "      <td>South Korea</td>\n",
       "    </tr>\n",
       "    <tr>\n",
       "      <th>6</th>\n",
       "      <td>7</td>\n",
       "      <td>Ukraine</td>\n",
       "    </tr>\n",
       "    <tr>\n",
       "      <th>7</th>\n",
       "      <td>8</td>\n",
       "      <td>United States</td>\n",
       "    </tr>\n",
       "    <tr>\n",
       "      <th>8</th>\n",
       "      <td>9</td>\n",
       "      <td>Uruguay</td>\n",
       "    </tr>\n",
       "    <tr>\n",
       "      <th>9</th>\n",
       "      <td>10</td>\n",
       "      <td>Chile</td>\n",
       "    </tr>\n",
       "    <tr>\n",
       "      <th>10</th>\n",
       "      <td>11</td>\n",
       "      <td>France</td>\n",
       "    </tr>\n",
       "    <tr>\n",
       "      <th>11</th>\n",
       "      <td>12</td>\n",
       "      <td>Germany</td>\n",
       "    </tr>\n",
       "    <tr>\n",
       "      <th>12</th>\n",
       "      <td>13</td>\n",
       "      <td>Iceland</td>\n",
       "    </tr>\n",
       "    <tr>\n",
       "      <th>13</th>\n",
       "      <td>14</td>\n",
       "      <td>Romania</td>\n",
       "    </tr>\n",
       "    <tr>\n",
       "      <th>14</th>\n",
       "      <td>15</td>\n",
       "      <td>Switzerland</td>\n",
       "    </tr>\n",
       "    <tr>\n",
       "      <th>15</th>\n",
       "      <td>16</td>\n",
       "      <td>Austria</td>\n",
       "    </tr>\n",
       "    <tr>\n",
       "      <th>16</th>\n",
       "      <td>17</td>\n",
       "      <td>Belgium</td>\n",
       "    </tr>\n",
       "    <tr>\n",
       "      <th>17</th>\n",
       "      <td>18</td>\n",
       "      <td>Bulgaria</td>\n",
       "    </tr>\n",
       "    <tr>\n",
       "      <th>18</th>\n",
       "      <td>19</td>\n",
       "      <td>Croatia</td>\n",
       "    </tr>\n",
       "    <tr>\n",
       "      <th>19</th>\n",
       "      <td>20</td>\n",
       "      <td>Denmark</td>\n",
       "    </tr>\n",
       "    <tr>\n",
       "      <th>20</th>\n",
       "      <td>21</td>\n",
       "      <td>Finland</td>\n",
       "    </tr>\n",
       "    <tr>\n",
       "      <th>21</th>\n",
       "      <td>22</td>\n",
       "      <td>Ireland</td>\n",
       "    </tr>\n",
       "    <tr>\n",
       "      <th>22</th>\n",
       "      <td>23</td>\n",
       "      <td>Luxembourg</td>\n",
       "    </tr>\n",
       "    <tr>\n",
       "      <th>23</th>\n",
       "      <td>24</td>\n",
       "      <td>Netherlands</td>\n",
       "    </tr>\n",
       "    <tr>\n",
       "      <th>24</th>\n",
       "      <td>25</td>\n",
       "      <td>Peru</td>\n",
       "    </tr>\n",
       "    <tr>\n",
       "      <th>25</th>\n",
       "      <td>26</td>\n",
       "      <td>Poland</td>\n",
       "    </tr>\n",
       "    <tr>\n",
       "      <th>26</th>\n",
       "      <td>27</td>\n",
       "      <td>Slovakia</td>\n",
       "    </tr>\n",
       "    <tr>\n",
       "      <th>27</th>\n",
       "      <td>28</td>\n",
       "      <td>Sweden</td>\n",
       "    </tr>\n",
       "    <tr>\n",
       "      <th>28</th>\n",
       "      <td>29</td>\n",
       "      <td>Cyprus</td>\n",
       "    </tr>\n",
       "    <tr>\n",
       "      <th>29</th>\n",
       "      <td>30</td>\n",
       "      <td>Estonia</td>\n",
       "    </tr>\n",
       "    <tr>\n",
       "      <th>30</th>\n",
       "      <td>31</td>\n",
       "      <td>Hungary</td>\n",
       "    </tr>\n",
       "    <tr>\n",
       "      <th>31</th>\n",
       "      <td>32</td>\n",
       "      <td>Liechtenstein</td>\n",
       "    </tr>\n",
       "    <tr>\n",
       "      <th>32</th>\n",
       "      <td>33</td>\n",
       "      <td>Lithuania</td>\n",
       "    </tr>\n",
       "    <tr>\n",
       "      <th>33</th>\n",
       "      <td>34</td>\n",
       "      <td>Malta</td>\n",
       "    </tr>\n",
       "    <tr>\n",
       "      <th>34</th>\n",
       "      <td>35</td>\n",
       "      <td>Norway</td>\n",
       "    </tr>\n",
       "    <tr>\n",
       "      <th>35</th>\n",
       "      <td>36</td>\n",
       "      <td>Portugal</td>\n",
       "    </tr>\n",
       "    <tr>\n",
       "      <th>36</th>\n",
       "      <td>37</td>\n",
       "      <td>Slovenia</td>\n",
       "    </tr>\n",
       "    <tr>\n",
       "      <th>37</th>\n",
       "      <td>38</td>\n",
       "      <td>Ecuador</td>\n",
       "    </tr>\n",
       "    <tr>\n",
       "      <th>38</th>\n",
       "      <td>39</td>\n",
       "      <td>Spain</td>\n",
       "    </tr>\n",
       "    <tr>\n",
       "      <th>39</th>\n",
       "      <td>40</td>\n",
       "      <td>Mexico</td>\n",
       "    </tr>\n",
       "    <tr>\n",
       "      <th>40</th>\n",
       "      <td>41</td>\n",
       "      <td>Japan</td>\n",
       "    </tr>\n",
       "  </tbody>\n",
       "</table>\n",
       "</div>"
      ],
      "text/plain": [
       "    id         country\n",
       "0    1         Czechia\n",
       "1    2  European Union\n",
       "2    3       Hong Kong\n",
       "3    4           Italy\n",
       "4    5          Latvia\n",
       "5    6     South Korea\n",
       "6    7         Ukraine\n",
       "7    8   United States\n",
       "8    9         Uruguay\n",
       "9   10           Chile\n",
       "10  11          France\n",
       "11  12         Germany\n",
       "12  13         Iceland\n",
       "13  14         Romania\n",
       "14  15     Switzerland\n",
       "15  16         Austria\n",
       "16  17         Belgium\n",
       "17  18        Bulgaria\n",
       "18  19         Croatia\n",
       "19  20         Denmark\n",
       "20  21         Finland\n",
       "21  22         Ireland\n",
       "22  23      Luxembourg\n",
       "23  24     Netherlands\n",
       "24  25            Peru\n",
       "25  26          Poland\n",
       "26  27        Slovakia\n",
       "27  28          Sweden\n",
       "28  29          Cyprus\n",
       "29  30         Estonia\n",
       "30  31         Hungary\n",
       "31  32   Liechtenstein\n",
       "32  33       Lithuania\n",
       "33  34           Malta\n",
       "34  35          Norway\n",
       "35  36        Portugal\n",
       "36  37        Slovenia\n",
       "37  38         Ecuador\n",
       "38  39           Spain\n",
       "39  40          Mexico\n",
       "40  41           Japan"
      ]
     },
     "execution_count": 18,
     "metadata": {},
     "output_type": "execute_result"
    }
   ],
   "source": [
    "df_catalogo_paises = {\n",
    "    'id': range(1, len(df_vacunas) + 1),\n",
    "    'country': df_vacunas['country'].unique(),\n",
    "}\n",
    "df_catalogo_paises = pd.DataFrame(df_catalogo_paises)\n",
    "df_catalogo_paises.set_index('id', drop=True)\n",
    "df_catalogo_paises"
   ]
  },
  {
   "cell_type": "code",
   "execution_count": 19,
   "id": "a923db25",
   "metadata": {},
   "outputs": [],
   "source": [
    "connection = pymysql.connect(host='database-1.cm5igvjqxyyd.us-east-2.rds.amazonaws.com',\n",
    "                         user='admin',\n",
    "                         password='rootR00T!',\n",
    "                         db='covid')\n",
    "\n",
    "# create cursor\n",
    "cursor=connection.cursor()"
   ]
  },
  {
   "cell_type": "code",
   "execution_count": 20,
   "id": "7d1d3edb",
   "metadata": {},
   "outputs": [],
   "source": [
    "cols = \"`,`\".join([str(i) for i in df_catalogo_paises.columns.tolist()])\n",
    "\n",
    "for i,row in df_catalogo_paises.iterrows():\n",
    "    sql = \"INSERT INTO `countries` (`\" +cols + \"`) VALUES (\" + \"%s,\"*(len(row)-1) + \"%s)\"\n",
    "    cursor.execute(sql, tuple(row))\n",
    "\n",
    "    connection.commit()"
   ]
  },
  {
   "cell_type": "code",
   "execution_count": 21,
   "id": "d47232e8",
   "metadata": {},
   "outputs": [
    {
     "name": "stdout",
     "output_type": "stream",
     "text": [
      "(16, 'Austria')\n",
      "(17, 'Belgium')\n",
      "(18, 'Bulgaria')\n",
      "(10, 'Chile')\n",
      "(19, 'Croatia')\n",
      "(29, 'Cyprus')\n",
      "(1, 'Czechia')\n",
      "(20, 'Denmark')\n",
      "(38, 'Ecuador')\n",
      "(30, 'Estonia')\n",
      "(2, 'European Union')\n",
      "(21, 'Finland')\n",
      "(11, 'France')\n",
      "(12, 'Germany')\n",
      "(3, 'Hong Kong')\n",
      "(31, 'Hungary')\n",
      "(13, 'Iceland')\n",
      "(22, 'Ireland')\n",
      "(4, 'Italy')\n",
      "(41, 'Japan')\n",
      "(5, 'Latvia')\n",
      "(32, 'Liechtenstein')\n",
      "(33, 'Lithuania')\n",
      "(23, 'Luxembourg')\n",
      "(34, 'Malta')\n",
      "(40, 'Mexico')\n",
      "(24, 'Netherlands')\n",
      "(35, 'Norway')\n",
      "(25, 'Peru')\n",
      "(26, 'Poland')\n",
      "(36, 'Portugal')\n",
      "(14, 'Romania')\n",
      "(27, 'Slovakia')\n",
      "(37, 'Slovenia')\n",
      "(6, 'South Korea')\n",
      "(39, 'Spain')\n",
      "(28, 'Sweden')\n",
      "(15, 'Switzerland')\n",
      "(7, 'Ukraine')\n",
      "(8, 'United States')\n",
      "(9, 'Uruguay')\n"
     ]
    }
   ],
   "source": [
    "sql = \"SELECT * FROM `countries`\"\n",
    "cursor.execute(sql)\n",
    "\n",
    "result = cursor.fetchall()\n",
    "for i in result:\n",
    "    print(i)"
   ]
  },
  {
   "cell_type": "code",
   "execution_count": 22,
   "id": "b4cfa034",
   "metadata": {},
   "outputs": [],
   "source": [
    "connection.close()"
   ]
  }
 ],
 "metadata": {
  "kernelspec": {
   "display_name": "Python 3 (ipykernel)",
   "language": "python",
   "name": "python3"
  },
  "language_info": {
   "codemirror_mode": {
    "name": "ipython",
    "version": 3
   },
   "file_extension": ".py",
   "mimetype": "text/x-python",
   "name": "python",
   "nbconvert_exporter": "python",
   "pygments_lexer": "ipython3",
   "version": "3.9.7"
  }
 },
 "nbformat": 4,
 "nbformat_minor": 5
}
